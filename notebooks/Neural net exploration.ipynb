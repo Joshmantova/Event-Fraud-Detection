{
 "cells": [
  {
   "cell_type": "code",
   "execution_count": 1,
   "metadata": {},
   "outputs": [],
   "source": [
    "\n",
    "import os\n",
    "os.environ[\"KERAS_BACKEND\"] = \"plaidml.keras.backend\""
   ]
  },
  {
   "cell_type": "code",
   "execution_count": 28,
   "metadata": {},
   "outputs": [],
   "source": [
    "import pandas as pd\n",
    "import numpy as np\n",
    "import matplotlib.pyplot as plt\n",
    "import seaborn as sns\n",
    "from sklearn.metrics import confusion_matrix\n",
    "\n",
    "from tensorflow.keras.models import Sequential\n",
    "from tensorflow.keras.layers import Dense\n",
    "from tensorflow.keras.layers import Dropout\n",
    "from tensorflow.keras.layers import Activation\n",
    "from tensorflow.keras.optimizers import Adam\n",
    "from tensorflow.keras import Model\n",
    "from tensorflow.keras.metrics import AUC\n",
    "from tensorflow import keras\n",
    "\n",
    "from keras.wrappers.scikit_learn import KerasClassifier\n",
    "from sklearn.preprocessing import OneHotEncoder, StandardScaler\n",
    "\n",
    "from sklearn.model_selection import train_test_split\n",
    "from sklearn.model_selection import GridSearchCV\n",
    "from sklearn.metrics import f1_score, roc_auc_score\n",
    "from sklearn.pipeline import Pipeline\n",
    "from sklearn import set_config\n",
    "set_config(display='diagram')\n",
    "\n",
    "from imblearn.pipeline import Pipeline as smote_pipeline\n",
    "\n",
    "import joblib\n"
   ]
  },
  {
   "cell_type": "code",
   "execution_count": 3,
   "metadata": {},
   "outputs": [
    {
     "data": {
      "text/html": [
       "<div>\n",
       "<style scoped>\n",
       "    .dataframe tbody tr th:only-of-type {\n",
       "        vertical-align: middle;\n",
       "    }\n",
       "\n",
       "    .dataframe tbody tr th {\n",
       "        vertical-align: top;\n",
       "    }\n",
       "\n",
       "    .dataframe thead th {\n",
       "        text-align: right;\n",
       "    }\n",
       "</style>\n",
       "<table border=\"1\" class=\"dataframe\">\n",
       "  <thead>\n",
       "    <tr style=\"text-align: right;\">\n",
       "      <th></th>\n",
       "      <th>body_length</th>\n",
       "      <th>country</th>\n",
       "      <th>currency</th>\n",
       "      <th>delivery_method</th>\n",
       "      <th>description</th>\n",
       "      <th>fb_published</th>\n",
       "      <th>has_analytics</th>\n",
       "      <th>has_header</th>\n",
       "      <th>has_logo</th>\n",
       "      <th>listed</th>\n",
       "      <th>...</th>\n",
       "      <th>total_tickets_available</th>\n",
       "      <th>number_of_payouts</th>\n",
       "      <th>avg_quantity_sold</th>\n",
       "      <th>payee_name_in_org_name</th>\n",
       "      <th>venue_country_is_source_country</th>\n",
       "      <th>avg_cost_per_ticket</th>\n",
       "      <th>days_to_event</th>\n",
       "      <th>event_length</th>\n",
       "      <th>pop_country</th>\n",
       "      <th>fraud</th>\n",
       "    </tr>\n",
       "  </thead>\n",
       "  <tbody>\n",
       "    <tr>\n",
       "      <th>0</th>\n",
       "      <td>3852.0</td>\n",
       "      <td>US</td>\n",
       "      <td>USD</td>\n",
       "      <td>0.0</td>\n",
       "      <td>0.723935</td>\n",
       "      <td>0</td>\n",
       "      <td>0</td>\n",
       "      <td>1.0</td>\n",
       "      <td>0</td>\n",
       "      <td>y</td>\n",
       "      <td>...</td>\n",
       "      <td>920.0</td>\n",
       "      <td>0.0</td>\n",
       "      <td>0.000000</td>\n",
       "      <td>True</td>\n",
       "      <td>True</td>\n",
       "      <td>0.226449</td>\n",
       "      <td>33.0</td>\n",
       "      <td>0.0</td>\n",
       "      <td>True</td>\n",
       "      <td>True</td>\n",
       "    </tr>\n",
       "    <tr>\n",
       "      <th>1</th>\n",
       "      <td>3499.0</td>\n",
       "      <td>US</td>\n",
       "      <td>USD</td>\n",
       "      <td>1.0</td>\n",
       "      <td>0.091689</td>\n",
       "      <td>0</td>\n",
       "      <td>0</td>\n",
       "      <td>0.0</td>\n",
       "      <td>1</td>\n",
       "      <td>n</td>\n",
       "      <td>...</td>\n",
       "      <td>100.0</td>\n",
       "      <td>49.0</td>\n",
       "      <td>12.500000</td>\n",
       "      <td>True</td>\n",
       "      <td>True</td>\n",
       "      <td>0.350000</td>\n",
       "      <td>28.0</td>\n",
       "      <td>0.0</td>\n",
       "      <td>True</td>\n",
       "      <td>False</td>\n",
       "    </tr>\n",
       "    <tr>\n",
       "      <th>2</th>\n",
       "      <td>2601.0</td>\n",
       "      <td>US</td>\n",
       "      <td>USD</td>\n",
       "      <td>1.0</td>\n",
       "      <td>0.095273</td>\n",
       "      <td>0</td>\n",
       "      <td>0</td>\n",
       "      <td>NaN</td>\n",
       "      <td>0</td>\n",
       "      <td>y</td>\n",
       "      <td>...</td>\n",
       "      <td>48.0</td>\n",
       "      <td>36.0</td>\n",
       "      <td>48.000000</td>\n",
       "      <td>True</td>\n",
       "      <td>True</td>\n",
       "      <td>1.948125</td>\n",
       "      <td>53.0</td>\n",
       "      <td>0.0</td>\n",
       "      <td>True</td>\n",
       "      <td>False</td>\n",
       "    </tr>\n",
       "    <tr>\n",
       "      <th>3</th>\n",
       "      <td>12347.0</td>\n",
       "      <td>IE</td>\n",
       "      <td>EUR</td>\n",
       "      <td>1.0</td>\n",
       "      <td>0.293555</td>\n",
       "      <td>0</td>\n",
       "      <td>0</td>\n",
       "      <td>0.0</td>\n",
       "      <td>1</td>\n",
       "      <td>y</td>\n",
       "      <td>...</td>\n",
       "      <td>30000.0</td>\n",
       "      <td>21.0</td>\n",
       "      <td>9.666667</td>\n",
       "      <td>True</td>\n",
       "      <td>False</td>\n",
       "      <td>0.000456</td>\n",
       "      <td>0.0</td>\n",
       "      <td>322.0</td>\n",
       "      <td>False</td>\n",
       "      <td>False</td>\n",
       "    </tr>\n",
       "    <tr>\n",
       "      <th>4</th>\n",
       "      <td>2417.0</td>\n",
       "      <td>US</td>\n",
       "      <td>USD</td>\n",
       "      <td>0.0</td>\n",
       "      <td>0.308245</td>\n",
       "      <td>1</td>\n",
       "      <td>0</td>\n",
       "      <td>0.0</td>\n",
       "      <td>0</td>\n",
       "      <td>y</td>\n",
       "      <td>...</td>\n",
       "      <td>264.0</td>\n",
       "      <td>49.0</td>\n",
       "      <td>4.875000</td>\n",
       "      <td>False</td>\n",
       "      <td>True</td>\n",
       "      <td>0.385417</td>\n",
       "      <td>63.0</td>\n",
       "      <td>0.0</td>\n",
       "      <td>True</td>\n",
       "      <td>False</td>\n",
       "    </tr>\n",
       "    <tr>\n",
       "      <th>...</th>\n",
       "      <td>...</td>\n",
       "      <td>...</td>\n",
       "      <td>...</td>\n",
       "      <td>...</td>\n",
       "      <td>...</td>\n",
       "      <td>...</td>\n",
       "      <td>...</td>\n",
       "      <td>...</td>\n",
       "      <td>...</td>\n",
       "      <td>...</td>\n",
       "      <td>...</td>\n",
       "      <td>...</td>\n",
       "      <td>...</td>\n",
       "      <td>...</td>\n",
       "      <td>...</td>\n",
       "      <td>...</td>\n",
       "      <td>...</td>\n",
       "      <td>...</td>\n",
       "      <td>...</td>\n",
       "      <td>...</td>\n",
       "      <td>...</td>\n",
       "    </tr>\n",
       "    <tr>\n",
       "      <th>14332</th>\n",
       "      <td>667.0</td>\n",
       "      <td>US</td>\n",
       "      <td>USD</td>\n",
       "      <td>0.0</td>\n",
       "      <td>0.966564</td>\n",
       "      <td>0</td>\n",
       "      <td>0</td>\n",
       "      <td>NaN</td>\n",
       "      <td>1</td>\n",
       "      <td>n</td>\n",
       "      <td>...</td>\n",
       "      <td>400.0</td>\n",
       "      <td>0.0</td>\n",
       "      <td>0.000000</td>\n",
       "      <td>True</td>\n",
       "      <td>True</td>\n",
       "      <td>0.112500</td>\n",
       "      <td>10.0</td>\n",
       "      <td>0.0</td>\n",
       "      <td>True</td>\n",
       "      <td>True</td>\n",
       "    </tr>\n",
       "    <tr>\n",
       "      <th>14333</th>\n",
       "      <td>5812.0</td>\n",
       "      <td>US</td>\n",
       "      <td>USD</td>\n",
       "      <td>1.0</td>\n",
       "      <td>0.007159</td>\n",
       "      <td>0</td>\n",
       "      <td>0</td>\n",
       "      <td>1.0</td>\n",
       "      <td>0</td>\n",
       "      <td>y</td>\n",
       "      <td>...</td>\n",
       "      <td>3256.0</td>\n",
       "      <td>5.0</td>\n",
       "      <td>78.500000</td>\n",
       "      <td>False</td>\n",
       "      <td>True</td>\n",
       "      <td>0.013283</td>\n",
       "      <td>55.0</td>\n",
       "      <td>0.0</td>\n",
       "      <td>True</td>\n",
       "      <td>False</td>\n",
       "    </tr>\n",
       "    <tr>\n",
       "      <th>14334</th>\n",
       "      <td>557.0</td>\n",
       "      <td>NaN</td>\n",
       "      <td>USD</td>\n",
       "      <td>0.0</td>\n",
       "      <td>0.202241</td>\n",
       "      <td>1</td>\n",
       "      <td>0</td>\n",
       "      <td>0.0</td>\n",
       "      <td>1</td>\n",
       "      <td>y</td>\n",
       "      <td>...</td>\n",
       "      <td>148.0</td>\n",
       "      <td>1.0</td>\n",
       "      <td>0.200000</td>\n",
       "      <td>True</td>\n",
       "      <td>False</td>\n",
       "      <td>0.283784</td>\n",
       "      <td>89.0</td>\n",
       "      <td>0.0</td>\n",
       "      <td>False</td>\n",
       "      <td>False</td>\n",
       "    </tr>\n",
       "    <tr>\n",
       "      <th>14335</th>\n",
       "      <td>10873.0</td>\n",
       "      <td>US</td>\n",
       "      <td>USD</td>\n",
       "      <td>0.0</td>\n",
       "      <td>0.042906</td>\n",
       "      <td>0</td>\n",
       "      <td>0</td>\n",
       "      <td>0.0</td>\n",
       "      <td>1</td>\n",
       "      <td>y</td>\n",
       "      <td>...</td>\n",
       "      <td>100.0</td>\n",
       "      <td>128.0</td>\n",
       "      <td>0.000000</td>\n",
       "      <td>True</td>\n",
       "      <td>True</td>\n",
       "      <td>0.793300</td>\n",
       "      <td>5.0</td>\n",
       "      <td>0.0</td>\n",
       "      <td>True</td>\n",
       "      <td>False</td>\n",
       "    </tr>\n",
       "    <tr>\n",
       "      <th>14336</th>\n",
       "      <td>0.0</td>\n",
       "      <td>GB</td>\n",
       "      <td>GBP</td>\n",
       "      <td>0.0</td>\n",
       "      <td>0.500000</td>\n",
       "      <td>0</td>\n",
       "      <td>0</td>\n",
       "      <td>NaN</td>\n",
       "      <td>1</td>\n",
       "      <td>n</td>\n",
       "      <td>...</td>\n",
       "      <td>20.0</td>\n",
       "      <td>0.0</td>\n",
       "      <td>0.000000</td>\n",
       "      <td>True</td>\n",
       "      <td>True</td>\n",
       "      <td>14.150000</td>\n",
       "      <td>0.0</td>\n",
       "      <td>24.0</td>\n",
       "      <td>True</td>\n",
       "      <td>True</td>\n",
       "    </tr>\n",
       "  </tbody>\n",
       "</table>\n",
       "<p>14337 rows × 28 columns</p>\n",
       "</div>"
      ],
      "text/plain": [
       "       body_length country currency  delivery_method  description  \\\n",
       "0           3852.0      US      USD              0.0     0.723935   \n",
       "1           3499.0      US      USD              1.0     0.091689   \n",
       "2           2601.0      US      USD              1.0     0.095273   \n",
       "3          12347.0      IE      EUR              1.0     0.293555   \n",
       "4           2417.0      US      USD              0.0     0.308245   \n",
       "...            ...     ...      ...              ...          ...   \n",
       "14332        667.0      US      USD              0.0     0.966564   \n",
       "14333       5812.0      US      USD              1.0     0.007159   \n",
       "14334        557.0     NaN      USD              0.0     0.202241   \n",
       "14335      10873.0      US      USD              0.0     0.042906   \n",
       "14336          0.0      GB      GBP              0.0     0.500000   \n",
       "\n",
       "       fb_published  has_analytics  has_header  has_logo listed  ...  \\\n",
       "0                 0              0         1.0         0      y  ...   \n",
       "1                 0              0         0.0         1      n  ...   \n",
       "2                 0              0         NaN         0      y  ...   \n",
       "3                 0              0         0.0         1      y  ...   \n",
       "4                 1              0         0.0         0      y  ...   \n",
       "...             ...            ...         ...       ...    ...  ...   \n",
       "14332             0              0         NaN         1      n  ...   \n",
       "14333             0              0         1.0         0      y  ...   \n",
       "14334             1              0         0.0         1      y  ...   \n",
       "14335             0              0         0.0         1      y  ...   \n",
       "14336             0              0         NaN         1      n  ...   \n",
       "\n",
       "       total_tickets_available  number_of_payouts avg_quantity_sold  \\\n",
       "0                        920.0                0.0          0.000000   \n",
       "1                        100.0               49.0         12.500000   \n",
       "2                         48.0               36.0         48.000000   \n",
       "3                      30000.0               21.0          9.666667   \n",
       "4                        264.0               49.0          4.875000   \n",
       "...                        ...                ...               ...   \n",
       "14332                    400.0                0.0          0.000000   \n",
       "14333                   3256.0                5.0         78.500000   \n",
       "14334                    148.0                1.0          0.200000   \n",
       "14335                    100.0              128.0          0.000000   \n",
       "14336                     20.0                0.0          0.000000   \n",
       "\n",
       "       payee_name_in_org_name  venue_country_is_source_country  \\\n",
       "0                        True                             True   \n",
       "1                        True                             True   \n",
       "2                        True                             True   \n",
       "3                        True                            False   \n",
       "4                       False                             True   \n",
       "...                       ...                              ...   \n",
       "14332                    True                             True   \n",
       "14333                   False                             True   \n",
       "14334                    True                            False   \n",
       "14335                    True                             True   \n",
       "14336                    True                             True   \n",
       "\n",
       "      avg_cost_per_ticket days_to_event  event_length  pop_country  fraud  \n",
       "0                0.226449          33.0           0.0         True   True  \n",
       "1                0.350000          28.0           0.0         True  False  \n",
       "2                1.948125          53.0           0.0         True  False  \n",
       "3                0.000456           0.0         322.0        False  False  \n",
       "4                0.385417          63.0           0.0         True  False  \n",
       "...                   ...           ...           ...          ...    ...  \n",
       "14332            0.112500          10.0           0.0         True   True  \n",
       "14333            0.013283          55.0           0.0         True  False  \n",
       "14334            0.283784          89.0           0.0        False  False  \n",
       "14335            0.793300           5.0           0.0         True  False  \n",
       "14336           14.150000           0.0          24.0         True   True  \n",
       "\n",
       "[14337 rows x 28 columns]"
      ]
     },
     "execution_count": 3,
     "metadata": {},
     "output_type": "execute_result"
    }
   ],
   "source": [
    "df = pd.read_csv('../data/clean_data.csv')\n",
    "df"
   ]
  },
  {
   "cell_type": "code",
   "execution_count": 4,
   "metadata": {},
   "outputs": [
    {
     "data": {
      "text/html": [
       "<style>div.sk-top-container {color: black;background-color: white;}div.sk-toggleable {background-color: white;}label.sk-toggleable__label {cursor: pointer;display: block;width: 100%;margin-bottom: 0;padding: 0.2em 0.3em;box-sizing: border-box;text-align: center;}div.sk-toggleable__content {max-height: 0;max-width: 0;overflow: hidden;text-align: left;background-color: #f0f8ff;}div.sk-toggleable__content pre {margin: 0.2em;color: black;border-radius: 0.25em;background-color: #f0f8ff;}input.sk-toggleable__control:checked~div.sk-toggleable__content {max-height: 200px;max-width: 100%;overflow: auto;}div.sk-estimator input.sk-toggleable__control:checked~label.sk-toggleable__label {background-color: #d4ebff;}div.sk-label input.sk-toggleable__control:checked~label.sk-toggleable__label {background-color: #d4ebff;}input.sk-hidden--visually {border: 0;clip: rect(1px 1px 1px 1px);clip: rect(1px, 1px, 1px, 1px);height: 1px;margin: -1px;overflow: hidden;padding: 0;position: absolute;width: 1px;}div.sk-estimator {font-family: monospace;background-color: #f0f8ff;margin: 0.25em 0.25em;border: 1px dotted black;border-radius: 0.25em;box-sizing: border-box;}div.sk-estimator:hover {background-color: #d4ebff;}div.sk-parallel-item::after {content: \"\";width: 100%;border-bottom: 1px solid gray;flex-grow: 1;}div.sk-label:hover label.sk-toggleable__label {background-color: #d4ebff;}div.sk-serial::before {content: \"\";position: absolute;border-left: 1px solid gray;box-sizing: border-box;top: 2em;bottom: 0;left: 50%;}div.sk-serial {display: flex;flex-direction: column;align-items: center;background-color: white;}div.sk-item {z-index: 1;}div.sk-parallel {display: flex;align-items: stretch;justify-content: center;background-color: white;}div.sk-parallel-item {display: flex;flex-direction: column;position: relative;background-color: white;}div.sk-parallel-item:first-child::after {align-self: flex-end;width: 50%;}div.sk-parallel-item:last-child::after {align-self: flex-start;width: 50%;}div.sk-parallel-item:only-child::after {width: 0;}div.sk-dashed-wrapped {border: 1px dashed gray;margin: 0.2em;box-sizing: border-box;padding-bottom: 0.1em;background-color: white;position: relative;}div.sk-label label {font-family: monospace;font-weight: bold;background-color: white;display: inline-block;line-height: 1.2em;}div.sk-label-container {position: relative;z-index: 2;text-align: center;}div.sk-container {display: inline-block;position: relative;}</style><div class=\"sk-top-container\"><div class=\"sk-container\"><div class=\"sk-item sk-dashed-wrapped\"><div class=\"sk-label-container\"><div class=\"sk-label sk-toggleable\"><input class=\"sk-toggleable__control sk-hidden--visually\" id=\"7b8972ea-20b1-43ae-a44c-4b9e2c0716d2\" type=\"checkbox\" ><label class=\"sk-toggleable__label\" for=\"7b8972ea-20b1-43ae-a44c-4b9e2c0716d2\">Pipeline</label><div class=\"sk-toggleable__content\"><pre>Pipeline(steps=[('transformer',\n",
       "                 ColumnTransformer(transformers=[('numeric_transformer',\n",
       "                                                  Pipeline(steps=[('imputer',\n",
       "                                                                   KNNImputer()),\n",
       "                                                                  ('std',\n",
       "                                                                   StandardScaler())]),\n",
       "                                                  ['body_length', 'description',\n",
       "                                                   'name_length', 'num_payouts',\n",
       "                                                   'user_age',\n",
       "                                                   'avg_ticket_price',\n",
       "                                                   'total_tickets_available',\n",
       "                                                   'number_of_payouts',\n",
       "                                                   'avg_quantity_sold',\n",
       "                                                   'avg_cost_per_ticket',\n",
       "                                                   'days_to_event',\n",
       "                                                   'even...\n",
       "                                                                   OneHotEncoder(handle_unknown='ignore'))]),\n",
       "                                                  ['country', 'currency',\n",
       "                                                   'delivery_method',\n",
       "                                                   'fb_published',\n",
       "                                                   'has_analytics',\n",
       "                                                   'has_header', 'has_logo',\n",
       "                                                   'listed', 'payout_type',\n",
       "                                                   'show_map', 'venue_country',\n",
       "                                                   'venue_state',\n",
       "                                                   'payee_name_in_org_name',\n",
       "                                                   'venue_country_is_source_country',\n",
       "                                                   'pop_country'])])),\n",
       "                ('smoter', SMOTE(n_jobs=-1)),\n",
       "                ('cls', RandomForestClassifier(n_estimators=1000, n_jobs=-1))])</pre></div></div></div><div class=\"sk-serial\"><div class=\"sk-item sk-dashed-wrapped\"><div class=\"sk-label-container\"><div class=\"sk-label sk-toggleable\"><input class=\"sk-toggleable__control sk-hidden--visually\" id=\"3ad83e01-745a-4441-980e-7be81101d57e\" type=\"checkbox\" ><label class=\"sk-toggleable__label\" for=\"3ad83e01-745a-4441-980e-7be81101d57e\">transformer: ColumnTransformer</label><div class=\"sk-toggleable__content\"><pre>ColumnTransformer(transformers=[('numeric_transformer',\n",
       "                                 Pipeline(steps=[('imputer', KNNImputer()),\n",
       "                                                 ('std', StandardScaler())]),\n",
       "                                 ['body_length', 'description', 'name_length',\n",
       "                                  'num_payouts', 'user_age', 'avg_ticket_price',\n",
       "                                  'total_tickets_available',\n",
       "                                  'number_of_payouts', 'avg_quantity_sold',\n",
       "                                  'avg_cost_per_ticket', 'days_to_event',\n",
       "                                  'event_length']),\n",
       "                                ('categorical_trans...\n",
       "                                 Pipeline(steps=[('imputer',\n",
       "                                                  SimpleImputer(strategy='most_frequent')),\n",
       "                                                 ('onehot',\n",
       "                                                  OneHotEncoder(handle_unknown='ignore'))]),\n",
       "                                 ['country', 'currency', 'delivery_method',\n",
       "                                  'fb_published', 'has_analytics', 'has_header',\n",
       "                                  'has_logo', 'listed', 'payout_type',\n",
       "                                  'show_map', 'venue_country', 'venue_state',\n",
       "                                  'payee_name_in_org_name',\n",
       "                                  'venue_country_is_source_country',\n",
       "                                  'pop_country'])])</pre></div></div></div><div class=\"sk-parallel\"><div class=\"sk-parallel-item\"><div class=\"sk-item\"><div class=\"sk-label-container\"><div class=\"sk-label sk-toggleable\"><input class=\"sk-toggleable__control sk-hidden--visually\" id=\"7092f76c-8d76-44e0-8ec3-8d661b11aeed\" type=\"checkbox\" ><label class=\"sk-toggleable__label\" for=\"7092f76c-8d76-44e0-8ec3-8d661b11aeed\">numeric_transformer</label><div class=\"sk-toggleable__content\"><pre>['body_length', 'description', 'name_length', 'num_payouts', 'user_age', 'avg_ticket_price', 'total_tickets_available', 'number_of_payouts', 'avg_quantity_sold', 'avg_cost_per_ticket', 'days_to_event', 'event_length']</pre></div></div></div><div class=\"sk-serial\"><div class=\"sk-item\"><div class=\"sk-serial\"><div class=\"sk-item\"><div class=\"sk-estimator sk-toggleable\"><input class=\"sk-toggleable__control sk-hidden--visually\" id=\"ac052eea-4b5f-4dce-960b-e682a22f1547\" type=\"checkbox\" ><label class=\"sk-toggleable__label\" for=\"ac052eea-4b5f-4dce-960b-e682a22f1547\">KNNImputer</label><div class=\"sk-toggleable__content\"><pre>KNNImputer()</pre></div></div></div><div class=\"sk-item\"><div class=\"sk-estimator sk-toggleable\"><input class=\"sk-toggleable__control sk-hidden--visually\" id=\"43c4e4aa-06e5-4439-b319-e6b8aea86b0d\" type=\"checkbox\" ><label class=\"sk-toggleable__label\" for=\"43c4e4aa-06e5-4439-b319-e6b8aea86b0d\">StandardScaler</label><div class=\"sk-toggleable__content\"><pre>StandardScaler()</pre></div></div></div></div></div></div></div></div><div class=\"sk-parallel-item\"><div class=\"sk-item\"><div class=\"sk-label-container\"><div class=\"sk-label sk-toggleable\"><input class=\"sk-toggleable__control sk-hidden--visually\" id=\"cd1e8494-b5f4-4af5-942d-881f9bafd314\" type=\"checkbox\" ><label class=\"sk-toggleable__label\" for=\"cd1e8494-b5f4-4af5-942d-881f9bafd314\">categorical_transformer</label><div class=\"sk-toggleable__content\"><pre>['country', 'currency', 'delivery_method', 'fb_published', 'has_analytics', 'has_header', 'has_logo', 'listed', 'payout_type', 'show_map', 'venue_country', 'venue_state', 'payee_name_in_org_name', 'venue_country_is_source_country', 'pop_country']</pre></div></div></div><div class=\"sk-serial\"><div class=\"sk-item\"><div class=\"sk-serial\"><div class=\"sk-item\"><div class=\"sk-estimator sk-toggleable\"><input class=\"sk-toggleable__control sk-hidden--visually\" id=\"fde20425-6b78-4ae6-80de-12e29b35254e\" type=\"checkbox\" ><label class=\"sk-toggleable__label\" for=\"fde20425-6b78-4ae6-80de-12e29b35254e\">SimpleImputer</label><div class=\"sk-toggleable__content\"><pre>SimpleImputer(strategy='most_frequent')</pre></div></div></div><div class=\"sk-item\"><div class=\"sk-estimator sk-toggleable\"><input class=\"sk-toggleable__control sk-hidden--visually\" id=\"e80114b5-fb08-4bad-a7f9-a718bc04ff08\" type=\"checkbox\" ><label class=\"sk-toggleable__label\" for=\"e80114b5-fb08-4bad-a7f9-a718bc04ff08\">OneHotEncoder</label><div class=\"sk-toggleable__content\"><pre>OneHotEncoder(handle_unknown='ignore')</pre></div></div></div></div></div></div></div></div></div></div><div class=\"sk-item\"><div class=\"sk-estimator sk-toggleable\"><input class=\"sk-toggleable__control sk-hidden--visually\" id=\"0095c09f-d1b8-46a3-98d9-b54195ce1598\" type=\"checkbox\" ><label class=\"sk-toggleable__label\" for=\"0095c09f-d1b8-46a3-98d9-b54195ce1598\">SMOTE</label><div class=\"sk-toggleable__content\"><pre>SMOTE(n_jobs=-1)</pre></div></div></div><div class=\"sk-item\"><div class=\"sk-estimator sk-toggleable\"><input class=\"sk-toggleable__control sk-hidden--visually\" id=\"3ca3a4fc-563e-4967-ada3-eeaa3e1de338\" type=\"checkbox\" ><label class=\"sk-toggleable__label\" for=\"3ca3a4fc-563e-4967-ada3-eeaa3e1de338\">RandomForestClassifier</label><div class=\"sk-toggleable__content\"><pre>RandomForestClassifier(n_estimators=1000, n_jobs=-1)</pre></div></div></div></div></div></div></div>"
      ],
      "text/plain": [
       "Pipeline(steps=[('transformer',\n",
       "                 ColumnTransformer(transformers=[('numeric_transformer',\n",
       "                                                  Pipeline(steps=[('imputer',\n",
       "                                                                   KNNImputer()),\n",
       "                                                                  ('std',\n",
       "                                                                   StandardScaler())]),\n",
       "                                                  ['body_length', 'description',\n",
       "                                                   'name_length', 'num_payouts',\n",
       "                                                   'user_age',\n",
       "                                                   'avg_ticket_price',\n",
       "                                                   'total_tickets_available',\n",
       "                                                   'number_of_payouts',\n",
       "                                                   'avg_quantity_sold',\n",
       "                                                   'avg_cost_per_ticket',\n",
       "                                                   'days_to_event',\n",
       "                                                   'even...\n",
       "                                                                   OneHotEncoder(handle_unknown='ignore'))]),\n",
       "                                                  ['country', 'currency',\n",
       "                                                   'delivery_method',\n",
       "                                                   'fb_published',\n",
       "                                                   'has_analytics',\n",
       "                                                   'has_header', 'has_logo',\n",
       "                                                   'listed', 'payout_type',\n",
       "                                                   'show_map', 'venue_country',\n",
       "                                                   'venue_state',\n",
       "                                                   'payee_name_in_org_name',\n",
       "                                                   'venue_country_is_source_country',\n",
       "                                                   'pop_country'])])),\n",
       "                ('smoter', SMOTE(n_jobs=-1)),\n",
       "                ('cls', RandomForestClassifier(n_estimators=1000, n_jobs=-1))])"
      ]
     },
     "execution_count": 4,
     "metadata": {},
     "output_type": "execute_result"
    }
   ],
   "source": [
    "pipe = joblib.load('../models/prediction_pipe.joblib')\n",
    "pipe"
   ]
  },
  {
   "cell_type": "code",
   "execution_count": 5,
   "metadata": {},
   "outputs": [
    {
     "data": {
      "text/html": [
       "<style>div.sk-top-container {color: black;background-color: white;}div.sk-toggleable {background-color: white;}label.sk-toggleable__label {cursor: pointer;display: block;width: 100%;margin-bottom: 0;padding: 0.2em 0.3em;box-sizing: border-box;text-align: center;}div.sk-toggleable__content {max-height: 0;max-width: 0;overflow: hidden;text-align: left;background-color: #f0f8ff;}div.sk-toggleable__content pre {margin: 0.2em;color: black;border-radius: 0.25em;background-color: #f0f8ff;}input.sk-toggleable__control:checked~div.sk-toggleable__content {max-height: 200px;max-width: 100%;overflow: auto;}div.sk-estimator input.sk-toggleable__control:checked~label.sk-toggleable__label {background-color: #d4ebff;}div.sk-label input.sk-toggleable__control:checked~label.sk-toggleable__label {background-color: #d4ebff;}input.sk-hidden--visually {border: 0;clip: rect(1px 1px 1px 1px);clip: rect(1px, 1px, 1px, 1px);height: 1px;margin: -1px;overflow: hidden;padding: 0;position: absolute;width: 1px;}div.sk-estimator {font-family: monospace;background-color: #f0f8ff;margin: 0.25em 0.25em;border: 1px dotted black;border-radius: 0.25em;box-sizing: border-box;}div.sk-estimator:hover {background-color: #d4ebff;}div.sk-parallel-item::after {content: \"\";width: 100%;border-bottom: 1px solid gray;flex-grow: 1;}div.sk-label:hover label.sk-toggleable__label {background-color: #d4ebff;}div.sk-serial::before {content: \"\";position: absolute;border-left: 1px solid gray;box-sizing: border-box;top: 2em;bottom: 0;left: 50%;}div.sk-serial {display: flex;flex-direction: column;align-items: center;background-color: white;}div.sk-item {z-index: 1;}div.sk-parallel {display: flex;align-items: stretch;justify-content: center;background-color: white;}div.sk-parallel-item {display: flex;flex-direction: column;position: relative;background-color: white;}div.sk-parallel-item:first-child::after {align-self: flex-end;width: 50%;}div.sk-parallel-item:last-child::after {align-self: flex-start;width: 50%;}div.sk-parallel-item:only-child::after {width: 0;}div.sk-dashed-wrapped {border: 1px dashed gray;margin: 0.2em;box-sizing: border-box;padding-bottom: 0.1em;background-color: white;position: relative;}div.sk-label label {font-family: monospace;font-weight: bold;background-color: white;display: inline-block;line-height: 1.2em;}div.sk-label-container {position: relative;z-index: 2;text-align: center;}div.sk-container {display: inline-block;position: relative;}</style><div class=\"sk-top-container\"><div class=\"sk-container\"><div class=\"sk-item sk-dashed-wrapped\"><div class=\"sk-label-container\"><div class=\"sk-label sk-toggleable\"><input class=\"sk-toggleable__control sk-hidden--visually\" id=\"459882c7-7e20-4586-80b6-fe8768c24ea7\" type=\"checkbox\" ><label class=\"sk-toggleable__label\" for=\"459882c7-7e20-4586-80b6-fe8768c24ea7\">Pipeline</label><div class=\"sk-toggleable__content\"><pre>Pipeline(steps=[('transformer',\n",
       "                 ColumnTransformer(transformers=[('numeric_transformer',\n",
       "                                                  Pipeline(steps=[('imputer',\n",
       "                                                                   KNNImputer()),\n",
       "                                                                  ('std',\n",
       "                                                                   StandardScaler())]),\n",
       "                                                  ['body_length', 'description',\n",
       "                                                   'name_length', 'num_payouts',\n",
       "                                                   'user_age',\n",
       "                                                   'avg_ticket_price',\n",
       "                                                   'total_tickets_available',\n",
       "                                                   'number_of_payouts',\n",
       "                                                   'avg_quantity_sold',\n",
       "                                                   'avg_cost_per_ticket',\n",
       "                                                   'days_to_event',\n",
       "                                                   'even...\n",
       "                                                                   SimpleImputer(strategy='most_frequent')),\n",
       "                                                                  ('onehot',\n",
       "                                                                   OneHotEncoder(handle_unknown='ignore'))]),\n",
       "                                                  ['country', 'currency',\n",
       "                                                   'delivery_method',\n",
       "                                                   'fb_published',\n",
       "                                                   'has_analytics',\n",
       "                                                   'has_header', 'has_logo',\n",
       "                                                   'listed', 'payout_type',\n",
       "                                                   'show_map', 'venue_country',\n",
       "                                                   'venue_state',\n",
       "                                                   'payee_name_in_org_name',\n",
       "                                                   'venue_country_is_source_country',\n",
       "                                                   'pop_country'])])),\n",
       "                ('smoter', SMOTE(n_jobs=-1))])</pre></div></div></div><div class=\"sk-serial\"><div class=\"sk-item sk-dashed-wrapped\"><div class=\"sk-label-container\"><div class=\"sk-label sk-toggleable\"><input class=\"sk-toggleable__control sk-hidden--visually\" id=\"8b132c64-6db5-4a74-9a3f-a5d93b77b1f8\" type=\"checkbox\" ><label class=\"sk-toggleable__label\" for=\"8b132c64-6db5-4a74-9a3f-a5d93b77b1f8\">transformer: ColumnTransformer</label><div class=\"sk-toggleable__content\"><pre>ColumnTransformer(transformers=[('numeric_transformer',\n",
       "                                 Pipeline(steps=[('imputer', KNNImputer()),\n",
       "                                                 ('std', StandardScaler())]),\n",
       "                                 ['body_length', 'description', 'name_length',\n",
       "                                  'num_payouts', 'user_age', 'avg_ticket_price',\n",
       "                                  'total_tickets_available',\n",
       "                                  'number_of_payouts', 'avg_quantity_sold',\n",
       "                                  'avg_cost_per_ticket', 'days_to_event',\n",
       "                                  'event_length']),\n",
       "                                ('categorical_trans...\n",
       "                                 Pipeline(steps=[('imputer',\n",
       "                                                  SimpleImputer(strategy='most_frequent')),\n",
       "                                                 ('onehot',\n",
       "                                                  OneHotEncoder(handle_unknown='ignore'))]),\n",
       "                                 ['country', 'currency', 'delivery_method',\n",
       "                                  'fb_published', 'has_analytics', 'has_header',\n",
       "                                  'has_logo', 'listed', 'payout_type',\n",
       "                                  'show_map', 'venue_country', 'venue_state',\n",
       "                                  'payee_name_in_org_name',\n",
       "                                  'venue_country_is_source_country',\n",
       "                                  'pop_country'])])</pre></div></div></div><div class=\"sk-parallel\"><div class=\"sk-parallel-item\"><div class=\"sk-item\"><div class=\"sk-label-container\"><div class=\"sk-label sk-toggleable\"><input class=\"sk-toggleable__control sk-hidden--visually\" id=\"5c1b0363-ee85-4a2d-83fa-495f4ba563c4\" type=\"checkbox\" ><label class=\"sk-toggleable__label\" for=\"5c1b0363-ee85-4a2d-83fa-495f4ba563c4\">numeric_transformer</label><div class=\"sk-toggleable__content\"><pre>['body_length', 'description', 'name_length', 'num_payouts', 'user_age', 'avg_ticket_price', 'total_tickets_available', 'number_of_payouts', 'avg_quantity_sold', 'avg_cost_per_ticket', 'days_to_event', 'event_length']</pre></div></div></div><div class=\"sk-serial\"><div class=\"sk-item\"><div class=\"sk-serial\"><div class=\"sk-item\"><div class=\"sk-estimator sk-toggleable\"><input class=\"sk-toggleable__control sk-hidden--visually\" id=\"1a28e2d0-dd2e-42b8-9426-4e3038fe69ea\" type=\"checkbox\" ><label class=\"sk-toggleable__label\" for=\"1a28e2d0-dd2e-42b8-9426-4e3038fe69ea\">KNNImputer</label><div class=\"sk-toggleable__content\"><pre>KNNImputer()</pre></div></div></div><div class=\"sk-item\"><div class=\"sk-estimator sk-toggleable\"><input class=\"sk-toggleable__control sk-hidden--visually\" id=\"12ca70b1-887a-4e45-afb5-b4d11c52955d\" type=\"checkbox\" ><label class=\"sk-toggleable__label\" for=\"12ca70b1-887a-4e45-afb5-b4d11c52955d\">StandardScaler</label><div class=\"sk-toggleable__content\"><pre>StandardScaler()</pre></div></div></div></div></div></div></div></div><div class=\"sk-parallel-item\"><div class=\"sk-item\"><div class=\"sk-label-container\"><div class=\"sk-label sk-toggleable\"><input class=\"sk-toggleable__control sk-hidden--visually\" id=\"29bc284e-2272-44c2-b7db-c9595f0be3a8\" type=\"checkbox\" ><label class=\"sk-toggleable__label\" for=\"29bc284e-2272-44c2-b7db-c9595f0be3a8\">categorical_transformer</label><div class=\"sk-toggleable__content\"><pre>['country', 'currency', 'delivery_method', 'fb_published', 'has_analytics', 'has_header', 'has_logo', 'listed', 'payout_type', 'show_map', 'venue_country', 'venue_state', 'payee_name_in_org_name', 'venue_country_is_source_country', 'pop_country']</pre></div></div></div><div class=\"sk-serial\"><div class=\"sk-item\"><div class=\"sk-serial\"><div class=\"sk-item\"><div class=\"sk-estimator sk-toggleable\"><input class=\"sk-toggleable__control sk-hidden--visually\" id=\"61c9a012-033d-458e-91c3-f5f2a713e629\" type=\"checkbox\" ><label class=\"sk-toggleable__label\" for=\"61c9a012-033d-458e-91c3-f5f2a713e629\">SimpleImputer</label><div class=\"sk-toggleable__content\"><pre>SimpleImputer(strategy='most_frequent')</pre></div></div></div><div class=\"sk-item\"><div class=\"sk-estimator sk-toggleable\"><input class=\"sk-toggleable__control sk-hidden--visually\" id=\"7b98181d-5684-44a4-b402-86148e052d80\" type=\"checkbox\" ><label class=\"sk-toggleable__label\" for=\"7b98181d-5684-44a4-b402-86148e052d80\">OneHotEncoder</label><div class=\"sk-toggleable__content\"><pre>OneHotEncoder(handle_unknown='ignore')</pre></div></div></div></div></div></div></div></div></div></div><div class=\"sk-item\"><div class=\"sk-estimator sk-toggleable\"><input class=\"sk-toggleable__control sk-hidden--visually\" id=\"58ad3661-15b4-4fdf-970a-d80303b4c685\" type=\"checkbox\" ><label class=\"sk-toggleable__label\" for=\"58ad3661-15b4-4fdf-970a-d80303b4c685\">SMOTE</label><div class=\"sk-toggleable__content\"><pre>SMOTE(n_jobs=-1)</pre></div></div></div></div></div></div></div>"
      ],
      "text/plain": [
       "Pipeline(steps=[('transformer',\n",
       "                 ColumnTransformer(transformers=[('numeric_transformer',\n",
       "                                                  Pipeline(steps=[('imputer',\n",
       "                                                                   KNNImputer()),\n",
       "                                                                  ('std',\n",
       "                                                                   StandardScaler())]),\n",
       "                                                  ['body_length', 'description',\n",
       "                                                   'name_length', 'num_payouts',\n",
       "                                                   'user_age',\n",
       "                                                   'avg_ticket_price',\n",
       "                                                   'total_tickets_available',\n",
       "                                                   'number_of_payouts',\n",
       "                                                   'avg_quantity_sold',\n",
       "                                                   'avg_cost_per_ticket',\n",
       "                                                   'days_to_event',\n",
       "                                                   'even...\n",
       "                                                                   SimpleImputer(strategy='most_frequent')),\n",
       "                                                                  ('onehot',\n",
       "                                                                   OneHotEncoder(handle_unknown='ignore'))]),\n",
       "                                                  ['country', 'currency',\n",
       "                                                   'delivery_method',\n",
       "                                                   'fb_published',\n",
       "                                                   'has_analytics',\n",
       "                                                   'has_header', 'has_logo',\n",
       "                                                   'listed', 'payout_type',\n",
       "                                                   'show_map', 'venue_country',\n",
       "                                                   'venue_state',\n",
       "                                                   'payee_name_in_org_name',\n",
       "                                                   'venue_country_is_source_country',\n",
       "                                                   'pop_country'])])),\n",
       "                ('smoter', SMOTE(n_jobs=-1))])"
      ]
     },
     "execution_count": 5,
     "metadata": {},
     "output_type": "execute_result"
    }
   ],
   "source": [
    "trans = pipe[:-1]\n",
    "trans"
   ]
  },
  {
   "cell_type": "code",
   "execution_count": 6,
   "metadata": {},
   "outputs": [
    {
     "name": "stdout",
     "output_type": "stream",
     "text": [
      "<class 'pandas.core.frame.DataFrame'>\n",
      "Int64Index: 11469 entries, 7526 to 11897\n",
      "Data columns (total 27 columns):\n",
      " #   Column                           Non-Null Count  Dtype  \n",
      "---  ------                           --------------  -----  \n",
      " 0   body_length                      11469 non-null  float64\n",
      " 1   country                          11147 non-null  object \n",
      " 2   currency                         11469 non-null  object \n",
      " 3   delivery_method                  11456 non-null  float64\n",
      " 4   description                      11469 non-null  float64\n",
      " 5   fb_published                     11469 non-null  int64  \n",
      " 6   has_analytics                    11469 non-null  int64  \n",
      " 7   has_header                       7102 non-null   float64\n",
      " 8   has_logo                         11469 non-null  int64  \n",
      " 9   listed                           11469 non-null  object \n",
      " 10  name_length                      11469 non-null  float64\n",
      " 11  num_payouts                      11469 non-null  float64\n",
      " 12  payout_type                      11078 non-null  object \n",
      " 13  show_map                         11469 non-null  int64  \n",
      " 14  user_age                         11469 non-null  float64\n",
      " 15  venue_country                    9870 non-null   object \n",
      " 16  venue_state                      8487 non-null   object \n",
      " 17  avg_ticket_price                 11469 non-null  float64\n",
      " 18  total_tickets_available          11469 non-null  float64\n",
      " 19  number_of_payouts                11469 non-null  float64\n",
      " 20  avg_quantity_sold                11401 non-null  float64\n",
      " 21  payee_name_in_org_name           11469 non-null  bool   \n",
      " 22  venue_country_is_source_country  11469 non-null  bool   \n",
      " 23  avg_cost_per_ticket              11469 non-null  float64\n",
      " 24  days_to_event                    11469 non-null  float64\n",
      " 25  event_length                     11469 non-null  float64\n",
      " 26  pop_country                      11469 non-null  bool   \n",
      "dtypes: bool(3), float64(14), int64(4), object(6)\n",
      "memory usage: 2.2+ MB\n"
     ]
    }
   ],
   "source": [
    "X = df.drop('fraud', axis=1)\n",
    "y = df['fraud']\n",
    "\n",
    "X_train, X_test, y_train, y_test = train_test_split(X, y,\n",
    "                                                   test_size=0.20,\n",
    "                                                   stratify=y)\n",
    "\n",
    "X_train.info()"
   ]
  },
  {
   "cell_type": "code",
   "execution_count": null,
   "metadata": {},
   "outputs": [],
   "source": [
    "pipe.fit_resample(X_train, y_train)\n"
   ]
  },
  {
   "cell_type": "code",
   "execution_count": null,
   "metadata": {},
   "outputs": [],
   "source": [
    "X_train_sm, y_train_sm = trans.fit_resample(X_train, y_train)\n",
    "X_train_sm.shape"
   ]
  },
  {
   "cell_type": "code",
   "execution_count": null,
   "metadata": {},
   "outputs": [],
   "source": [
    "X_train_sub, X_test_sub, y_train_sub, y_test_sub = train_test_split(X_train_sm, y_train_sm, test_size=0.20)"
   ]
  },
  {
   "cell_type": "code",
   "execution_count": null,
   "metadata": {},
   "outputs": [],
   "source": [
    "(y_train.value_counts()/y_train.shape[0]).values"
   ]
  },
  {
   "cell_type": "code",
   "execution_count": null,
   "metadata": {},
   "outputs": [],
   "source": [
    "def model(num_hidden_nodes=64):\n",
    "    nn = Sequential()\n",
    "    nn.add(Dense(num_hidden_nodes, activation='relu', input_dim=563))\n",
    "    nn.add(Dropout(rate=.05))\n",
    "    nn.add(Dense(num_hidden_nodes, activation='relu'))\n",
    "    nn.add(Dropout(rate=.10))\n",
    "    nn.add(Dense(1, activation='sigmoid'))\n",
    "    nn.compile(loss='binary_crossentropy', optimizer=Adam(lr=0.0001), metrics=[AUC()])\n",
    "    return nn\n"
   ]
  },
  {
   "cell_type": "code",
   "execution_count": null,
   "metadata": {},
   "outputs": [],
   "source": [
    "clf = KerasClassifier(model, epochs=50, batch_size=10, verbose=1)"
   ]
  },
  {
   "cell_type": "code",
   "execution_count": null,
   "metadata": {},
   "outputs": [],
   "source": [
    "weights = (y_train.value_counts()/y_train.shape[0]).values\n",
    "class_weights = {0: weights[0],\n",
    "                1: weights[1]}\n",
    "\n",
    "history = clf.fit(trans[:-1].transform(X_train).toarray(), y_train, validation_split=0.2, class_weight=class_weights)"
   ]
  },
  {
   "cell_type": "code",
   "execution_count": null,
   "metadata": {},
   "outputs": [],
   "source": []
  },
  {
   "cell_type": "code",
   "execution_count": null,
   "metadata": {},
   "outputs": [],
   "source": [
    "X_test_processed = trans[:-1].transform(X_test)"
   ]
  },
  {
   "cell_type": "code",
   "execution_count": null,
   "metadata": {},
   "outputs": [],
   "source": [
    "test_predictions = clf.predict(X_test_processed)"
   ]
  },
  {
   "cell_type": "code",
   "execution_count": null,
   "metadata": {},
   "outputs": [],
   "source": [
    "print(f1_score(y_test, test_predictions))\n",
    "print(roc_auc_score(y_test, test_predictions))"
   ]
  },
  {
   "cell_type": "code",
   "execution_count": null,
   "metadata": {},
   "outputs": [],
   "source": [
    "from imblearn.keras import BalancedBatchGenerator\n",
    "from imblearn.under_sampling import NearMiss\n"
   ]
  },
  {
   "cell_type": "code",
   "execution_count": null,
   "metadata": {},
   "outputs": [],
   "source": [
    "X_train_transformed = trans[:-1].transform(X_train).toarray()\n",
    "y_train_transformed = y_train.values.reshape(-1, 1)\n",
    "\n",
    "model = keras.Sequential([\n",
    "    Dense(64, activation='relu', input_dim=563),\n",
    "    Dropout(rate=.25),\n",
    "    Dense(32, activation='relu'),\n",
    "    Dense(1, activation='sigmoid')\n",
    "])\n",
    "model.compile(loss='binary_crossentropy', optimizer=Adam(lr=0.0001),\n",
    "             metrics=[AUC()])\n",
    "model.fit(X_train_transformed, y_train_transformed, epochs=50, batch_size=10)"
   ]
  },
  {
   "cell_type": "code",
   "execution_count": null,
   "metadata": {},
   "outputs": [],
   "source": []
  },
  {
   "cell_type": "code",
   "execution_count": 7,
   "metadata": {},
   "outputs": [
    {
     "name": "stdout",
     "output_type": "stream",
     "text": [
      "Examples:\n",
      "    Total: 11469\n",
      "    Positive: 1034 9.02% of total\n"
     ]
    }
   ],
   "source": [
    "neg, pos = np.bincount(y_train)\n",
    "total = neg + pos\n",
    "print(f'Examples:\\n    Total: {total}\\n    Positive: {pos} {100*pos/total:.2f}% of total')"
   ]
  },
  {
   "cell_type": "code",
   "execution_count": 8,
   "metadata": {},
   "outputs": [],
   "source": [
    "X_train, X_val, y_train, y_val = train_test_split(X_train, y_train, test_size=0.20, stratify=y_train)"
   ]
  },
  {
   "cell_type": "code",
   "execution_count": 12,
   "metadata": {},
   "outputs": [],
   "source": [
    "trans_wo_smote = trans[:-1]\n",
    "train_features = trans_wo_smote.fit_transform(X_train)\n",
    "val_features = trans_wo_smote.transform(X_val)\n",
    "test_features = trans_wo_smote.transform(X_test)\n",
    "\n",
    "train_features = np.clip(train_features.toarray(), -5, 5)\n",
    "val_features = np.clip(val_features.toarray(), -5, 5)\n",
    "test_features = np.clip(test_features.toarray(), -5, 5)\n"
   ]
  },
  {
   "cell_type": "code",
   "execution_count": 13,
   "metadata": {},
   "outputs": [
    {
     "data": {
      "text/plain": [
       "(9175, 520)"
      ]
     },
     "execution_count": 13,
     "metadata": {},
     "output_type": "execute_result"
    }
   ],
   "source": [
    "train_features.shape"
   ]
  },
  {
   "cell_type": "code",
   "execution_count": 44,
   "metadata": {},
   "outputs": [],
   "source": [
    "METRICS = [\n",
    "    keras.metrics.Precision(name='precision'),\n",
    "    keras.metrics.Recall(name='recall'),\n",
    "    keras.metrics.AUC(name='auc')\n",
    "]\n",
    "\n",
    "def make_model(metrics=METRICS, output_bias=None):\n",
    "    if output_bias is not None:\n",
    "        output_bias = keras.initializers.Constant(output_bias)\n",
    "    model = keras.Sequential([\n",
    "        Dense(32, activation='relu', input_shape=(train_features.shape[1],)),\n",
    "        Dropout(0.5),\n",
    "        Dense(16, activation='relu'),\n",
    "        Dropout(0.5),\n",
    "        Dense(1, activation='sigmoid', bias_initializer=output_bias)\n",
    "    ])\n",
    "    \n",
    "    model.compile(optimizer=keras.optimizers.Adam(lr=1e-3),\n",
    "                 loss=keras.losses.BinaryCrossentropy(),\n",
    "                 metrics=metrics)\n",
    "    \n",
    "    return model\n"
   ]
  },
  {
   "cell_type": "code",
   "execution_count": 45,
   "metadata": {},
   "outputs": [
    {
     "name": "stdout",
     "output_type": "stream",
     "text": [
      "Model: \"sequential_4\"\n",
      "_________________________________________________________________\n",
      "Layer (type)                 Output Shape              Param #   \n",
      "=================================================================\n",
      "dense_8 (Dense)              (None, 32)                16672     \n",
      "_________________________________________________________________\n",
      "dropout_4 (Dropout)          (None, 32)                0         \n",
      "_________________________________________________________________\n",
      "dense_9 (Dense)              (None, 16)                528       \n",
      "_________________________________________________________________\n",
      "dropout_5 (Dropout)          (None, 16)                0         \n",
      "_________________________________________________________________\n",
      "dense_10 (Dense)             (None, 1)                 17        \n",
      "=================================================================\n",
      "Total params: 17,217\n",
      "Trainable params: 17,217\n",
      "Non-trainable params: 0\n",
      "_________________________________________________________________\n"
     ]
    }
   ],
   "source": [
    "EPOCHS=100\n",
    "BATCH_SIZE=1835\n",
    "\n",
    "early_stopping = keras.callbacks.EarlyStopping(\n",
    "        monitor='val_auc',\n",
    "        verbose=1,\n",
    "        patience=10,\n",
    "        mode='max',\n",
    "        restore_best_weights=True)\n",
    "\n",
    "model = make_model()\n",
    "model.summary()"
   ]
  },
  {
   "cell_type": "code",
   "execution_count": 46,
   "metadata": {},
   "outputs": [
    {
     "data": {
      "text/plain": [
       "array([-2.31173076])"
      ]
     },
     "execution_count": 46,
     "metadata": {},
     "output_type": "execute_result"
    }
   ],
   "source": [
    "initial_bias = np.log([pos/neg])\n",
    "initial_bias"
   ]
  },
  {
   "cell_type": "code",
   "execution_count": 47,
   "metadata": {},
   "outputs": [
    {
     "name": "stdout",
     "output_type": "stream",
     "text": [
      "Epoch 1/100\n",
      "5/5 - 0s - loss: 0.3053 - precision: 0.0000e+00 - recall: 0.0000e+00 - auc: 0.5424 - val_loss: 0.2907 - val_precision: 0.0000e+00 - val_recall: 0.0000e+00 - val_auc: 0.8461\n",
      "Epoch 2/100\n",
      "5/5 - 0s - loss: 0.2902 - precision: 1.0000 - recall: 0.0012 - auc: 0.6720 - val_loss: 0.2753 - val_precision: 0.0000e+00 - val_recall: 0.0000e+00 - val_auc: 0.9452\n",
      "Epoch 3/100\n",
      "5/5 - 0s - loss: 0.2740 - precision: 0.0000e+00 - recall: 0.0000e+00 - auc: 0.7769 - val_loss: 0.2593 - val_precision: 0.0000e+00 - val_recall: 0.0000e+00 - val_auc: 0.9663\n",
      "Epoch 4/100\n",
      "5/5 - 0s - loss: 0.2630 - precision: 1.0000 - recall: 0.0012 - auc: 0.8110 - val_loss: 0.2424 - val_precision: 0.0000e+00 - val_recall: 0.0000e+00 - val_auc: 0.9708\n",
      "Epoch 5/100\n",
      "5/5 - 0s - loss: 0.2494 - precision: 0.8667 - recall: 0.0157 - auc: 0.8327 - val_loss: 0.2240 - val_precision: 0.0000e+00 - val_recall: 0.0000e+00 - val_auc: 0.9725\n",
      "Epoch 6/100\n",
      "5/5 - 0s - loss: 0.2356 - precision: 0.9184 - recall: 0.0544 - auc: 0.8573 - val_loss: 0.2043 - val_precision: 0.0000e+00 - val_recall: 0.0000e+00 - val_auc: 0.9732\n",
      "Epoch 7/100\n",
      "5/5 - 0s - loss: 0.2218 - precision: 0.8646 - recall: 0.1004 - auc: 0.8780 - val_loss: 0.1851 - val_precision: 0.0000e+00 - val_recall: 0.0000e+00 - val_auc: 0.9742\n",
      "Epoch 8/100\n",
      "5/5 - 0s - loss: 0.2105 - precision: 0.8675 - recall: 0.1584 - auc: 0.8918 - val_loss: 0.1680 - val_precision: 0.0000e+00 - val_recall: 0.0000e+00 - val_auc: 0.9748\n",
      "Epoch 9/100\n",
      "5/5 - 0s - loss: 0.1997 - precision: 0.8113 - recall: 0.2080 - auc: 0.9051 - val_loss: 0.1532 - val_precision: 1.0000 - val_recall: 0.0338 - val_auc: 0.9754\n",
      "Epoch 10/100\n",
      "5/5 - 0s - loss: 0.1886 - precision: 0.7786 - recall: 0.2467 - auc: 0.9184 - val_loss: 0.1418 - val_precision: 1.0000 - val_recall: 0.1449 - val_auc: 0.9764\n",
      "Epoch 11/100\n",
      "5/5 - 0s - loss: 0.1740 - precision: 0.8257 - recall: 0.3035 - auc: 0.9310 - val_loss: 0.1325 - val_precision: 1.0000 - val_recall: 0.3092 - val_auc: 0.9760\n",
      "Epoch 12/100\n",
      "5/5 - 0s - loss: 0.1772 - precision: 0.8000 - recall: 0.3047 - auc: 0.9290 - val_loss: 0.1249 - val_precision: 1.0000 - val_recall: 0.4106 - val_auc: 0.9768\n",
      "Epoch 13/100\n",
      "5/5 - 0s - loss: 0.1608 - precision: 0.8283 - recall: 0.3676 - auc: 0.9442 - val_loss: 0.1184 - val_precision: 1.0000 - val_recall: 0.4976 - val_auc: 0.9781\n",
      "Epoch 14/100\n",
      "5/5 - 0s - loss: 0.1542 - precision: 0.8141 - recall: 0.3918 - auc: 0.9500 - val_loss: 0.1116 - val_precision: 0.9841 - val_recall: 0.5990 - val_auc: 0.9781\n",
      "Epoch 15/100\n",
      "5/5 - 0s - loss: 0.1505 - precision: 0.8166 - recall: 0.4414 - auc: 0.9483 - val_loss: 0.1062 - val_precision: 0.9710 - val_recall: 0.6473 - val_auc: 0.9772\n",
      "Epoch 16/100\n",
      "5/5 - 0s - loss: 0.1425 - precision: 0.8182 - recall: 0.4788 - auc: 0.9528 - val_loss: 0.1023 - val_precision: 0.9521 - val_recall: 0.6715 - val_auc: 0.9784\n",
      "Epoch 17/100\n",
      "5/5 - 0s - loss: 0.1365 - precision: 0.8476 - recall: 0.4909 - auc: 0.9595 - val_loss: 0.0988 - val_precision: 0.9545 - val_recall: 0.7101 - val_auc: 0.9793\n",
      "Epoch 18/100\n",
      "5/5 - 0s - loss: 0.1370 - precision: 0.8100 - recall: 0.4897 - auc: 0.9602 - val_loss: 0.0959 - val_precision: 0.9490 - val_recall: 0.7198 - val_auc: 0.9803\n",
      "Epoch 19/100\n",
      "5/5 - 0s - loss: 0.1328 - precision: 0.8474 - recall: 0.4970 - auc: 0.9582 - val_loss: 0.0942 - val_precision: 0.9497 - val_recall: 0.7295 - val_auc: 0.9789\n",
      "Epoch 20/100\n",
      "5/5 - 0s - loss: 0.1242 - precision: 0.8523 - recall: 0.5441 - auc: 0.9628 - val_loss: 0.0910 - val_precision: 0.9451 - val_recall: 0.7488 - val_auc: 0.9790\n",
      "Epoch 21/100\n",
      "5/5 - 0s - loss: 0.1208 - precision: 0.8519 - recall: 0.5840 - auc: 0.9666 - val_loss: 0.0888 - val_precision: 0.9235 - val_recall: 0.7585 - val_auc: 0.9794\n",
      "Epoch 22/100\n",
      "5/5 - 0s - loss: 0.1180 - precision: 0.8350 - recall: 0.5937 - auc: 0.9695 - val_loss: 0.0875 - val_precision: 0.9249 - val_recall: 0.7729 - val_auc: 0.9799\n",
      "Epoch 23/100\n",
      "5/5 - 0s - loss: 0.1245 - precision: 0.8275 - recall: 0.5683 - auc: 0.9650 - val_loss: 0.0868 - val_precision: 0.9464 - val_recall: 0.7681 - val_auc: 0.9785\n",
      "Epoch 24/100\n",
      "5/5 - 0s - loss: 0.1176 - precision: 0.8365 - recall: 0.5877 - auc: 0.9688 - val_loss: 0.0862 - val_precision: 0.9458 - val_recall: 0.7585 - val_auc: 0.9784\n",
      "Epoch 25/100\n",
      "5/5 - 0s - loss: 0.1156 - precision: 0.8514 - recall: 0.5889 - auc: 0.9684 - val_loss: 0.0849 - val_precision: 0.9467 - val_recall: 0.7729 - val_auc: 0.9788\n",
      "Epoch 26/100\n",
      "5/5 - 0s - loss: 0.1091 - precision: 0.8639 - recall: 0.6143 - auc: 0.9721 - val_loss: 0.0829 - val_precision: 0.9205 - val_recall: 0.7826 - val_auc: 0.9787\n",
      "Epoch 27/100\n",
      "5/5 - 0s - loss: 0.1068 - precision: 0.8648 - recall: 0.6421 - auc: 0.9735 - val_loss: 0.0815 - val_precision: 0.9056 - val_recall: 0.7874 - val_auc: 0.9789\n",
      "Epoch 28/100\n",
      "Restoring model weights from the end of the best epoch.\n",
      "5/5 - 0s - loss: 0.1043 - precision: 0.8479 - recall: 0.6469 - auc: 0.9746 - val_loss: 0.0807 - val_precision: 0.9106 - val_recall: 0.7874 - val_auc: 0.9791\n",
      "Epoch 00028: early stopping\n"
     ]
    }
   ],
   "source": [
    "model = make_model(output_bias=initial_bias)\n",
    "history = model.fit(\n",
    "    train_features,\n",
    "    y_train,\n",
    "    batch_size=BATCH_SIZE,\n",
    "    epochs=EPOCHS,\n",
    "    callbacks=[early_stopping],\n",
    "    validation_data=(val_features, y_val),\n",
    "    verbose=2\n",
    ")"
   ]
  },
  {
   "cell_type": "code",
   "execution_count": 48,
   "metadata": {},
   "outputs": [
    {
     "data": {
      "image/png": "[encoded data removed]",
      "text/plain": [
       "<Figure size 432x288 with 1 Axes>"
      ]
     },
     "metadata": {
      "needs_background": "light"
     },
     "output_type": "display_data"
    }
   ],
   "source": [
    "def plot_metrics(history):\n",
    "    name = 'AUC'\n",
    "    fig, ax = plt.subplots()\n",
    "    ax.plot(history.epoch, history.history['auc'], label='Train')\n",
    "    ax.plot(history.epoch, history.history['val_auc'],\n",
    "           linestyle='--', label='Val')\n",
    "    ax.set_xlabel('Epoch')\n",
    "    ax.set_ylabel('AUC')\n",
    "    plt.legend()\n",
    "plot_metrics(history)"
   ]
  },
  {
   "cell_type": "code",
   "execution_count": 49,
   "metadata": {},
   "outputs": [],
   "source": [
    "def plot_cm(labels, predictions, p=0.5):\n",
    "    cm = confusion_matrix(labels, predictions > p)\n",
    "    plt.figure(figsize=(5, 5))\n",
    "    sns.heatmap(cm, annot=True, fmt='d')\n",
    "    plt.title('Confusion matrix')\n",
    "    plt.ylabel('Actual label')\n",
    "    plt.xlabel('Predicted label')\n",
    "    \n",
    "    print(f\"Legitimate Transactions Detected (True Negatives): {cm[0][0]}\")\n",
    "    print(f\"Legitimate Transactions Incorrectly Detected (False Positives): {cm[0][1]}\")\n",
    "    print(f\"Fraudulent Transactions Missed (False Negatives): {cm[1][0]}\")\n",
    "    print(f\"Fraudulent Transactions Detected (True Positives): {cm[1][1]}\")\n",
    "    print(f\"Total Fraudulent Transactions: {np.sum(cm[1])}\")"
   ]
  },
  {
   "cell_type": "code",
   "execution_count": 50,
   "metadata": {},
   "outputs": [
    {
     "name": "stdout",
     "output_type": "stream",
     "text": [
      "Legitimate Transactions Detected (True Negatives): 2592\n",
      "Legitimate Transactions Incorrectly Detected (False Positives): 17\n",
      "Fraudulent Transactions Missed (False Negatives): 82\n",
      "Fraudulent Transactions Detected (True Positives): 177\n",
      "Total Fraudulent Transactions: 259\n"
     ]
    },
    {
     "data": {
      "image/png": "[encoded data removed]",
      "text/plain": [
       "<Figure size 360x360 with 2 Axes>"
      ]
     },
     "metadata": {
      "needs_background": "light"
     },
     "output_type": "display_data"
    }
   ],
   "source": [
    "val_predictions = model.predict(val_features)\n",
    "test_predictions = model.predict(test_features)\n",
    "\n",
    "plot_cm(y_test, test_predictions)"
   ]
  },
  {
   "cell_type": "code",
   "execution_count": 51,
   "metadata": {},
   "outputs": [
    {
     "data": {
      "text/plain": [
       "0.781456953642384"
      ]
     },
     "execution_count": 51,
     "metadata": {},
     "output_type": "execute_result"
    }
   ],
   "source": [
    "f1_score(y_test, test_predictions>0.5)"
   ]
  },
  {
   "cell_type": "code",
   "execution_count": 52,
   "metadata": {},
   "outputs": [
    {
     "data": {
      "text/plain": [
       "array([[0.00228867],\n",
       "       [0.00256282],\n",
       "       [0.00452659],\n",
       "       ...,\n",
       "       [0.00315782],\n",
       "       [0.00376287],\n",
       "       [0.00363755]], dtype=float32)"
      ]
     },
     "execution_count": 52,
     "metadata": {},
     "output_type": "execute_result"
    }
   ],
   "source": [
    "val_predictions"
   ]
  },
  {
   "cell_type": "code",
   "execution_count": 53,
   "metadata": {},
   "outputs": [
    {
     "name": "stdout",
     "output_type": "stream",
     "text": [
      "0.5495448011499761\n",
      "5.545938104448743\n"
     ]
    }
   ],
   "source": [
    "weight_for_0 = (1 / neg) * (total)/2.0\n",
    "weight_for_1 = (1 / pos) * (total)/2.0\n",
    "class_weight = {0: weight_for_0, 1: weight_for_1}\n",
    "\n",
    "print(weight_for_0)\n",
    "print(weight_for_1)"
   ]
  },
  {
   "cell_type": "code",
   "execution_count": 54,
   "metadata": {},
   "outputs": [
    {
     "name": "stdout",
     "output_type": "stream",
     "text": [
      "Epoch 1/100\n",
      "5/5 - 0s - loss: 0.7274 - precision: 0.1092 - recall: 0.8791 - auc: 0.6415 - val_loss: 0.8860 - val_precision: 0.0906 - val_recall: 1.0000 - val_auc: 0.7691\n",
      "Epoch 2/100\n",
      "5/5 - 0s - loss: 0.6880 - precision: 0.1038 - recall: 0.9202 - auc: 0.6117 - val_loss: 0.8018 - val_precision: 0.0958 - val_recall: 0.9952 - val_auc: 0.9170\n",
      "Epoch 3/100\n",
      "5/5 - 0s - loss: 0.6422 - precision: 0.1203 - recall: 0.9166 - auc: 0.7155 - val_loss: 0.7032 - val_precision: 0.1390 - val_recall: 0.9807 - val_auc: 0.9430\n",
      "Epoch 4/100\n",
      "5/5 - 0s - loss: 0.6046 - precision: 0.1413 - recall: 0.8839 - auc: 0.7650 - val_loss: 0.6151 - val_precision: 0.2426 - val_recall: 0.9469 - val_auc: 0.9534\n",
      "Epoch 5/100\n",
      "5/5 - 0s - loss: 0.5666 - precision: 0.1675 - recall: 0.8875 - auc: 0.8081 - val_loss: 0.5421 - val_precision: 0.3415 - val_recall: 0.9469 - val_auc: 0.9599\n",
      "Epoch 6/100\n",
      "5/5 - 0s - loss: 0.5342 - precision: 0.1890 - recall: 0.8706 - auc: 0.8453 - val_loss: 0.4802 - val_precision: 0.4046 - val_recall: 0.9420 - val_auc: 0.9646\n",
      "Epoch 7/100\n",
      "5/5 - 0s - loss: 0.5050 - precision: 0.2126 - recall: 0.8682 - auc: 0.8646 - val_loss: 0.4218 - val_precision: 0.4686 - val_recall: 0.9372 - val_auc: 0.9674\n",
      "Epoch 8/100\n",
      "5/5 - 0s - loss: 0.4781 - precision: 0.2450 - recall: 0.8634 - auc: 0.8885 - val_loss: 0.3813 - val_precision: 0.4949 - val_recall: 0.9372 - val_auc: 0.9696\n",
      "Epoch 9/100\n",
      "5/5 - 0s - loss: 0.4449 - precision: 0.2688 - recall: 0.8996 - auc: 0.9126 - val_loss: 0.3433 - val_precision: 0.5228 - val_recall: 0.9420 - val_auc: 0.9713\n",
      "Epoch 10/100\n",
      "5/5 - 0s - loss: 0.4351 - precision: 0.2883 - recall: 0.8875 - auc: 0.9122 - val_loss: 0.3159 - val_precision: 0.5242 - val_recall: 0.9420 - val_auc: 0.9725\n",
      "Epoch 11/100\n",
      "5/5 - 0s - loss: 0.4076 - precision: 0.3085 - recall: 0.9045 - auc: 0.9277 - val_loss: 0.2928 - val_precision: 0.5228 - val_recall: 0.9420 - val_auc: 0.9734\n",
      "Epoch 12/100\n",
      "5/5 - 0s - loss: 0.3899 - precision: 0.3205 - recall: 0.9033 - auc: 0.9302 - val_loss: 0.2666 - val_precision: 0.5355 - val_recall: 0.9469 - val_auc: 0.9741\n",
      "Epoch 13/100\n",
      "5/5 - 0s - loss: 0.3602 - precision: 0.3626 - recall: 0.9093 - auc: 0.9421 - val_loss: 0.2389 - val_precision: 0.5508 - val_recall: 0.9420 - val_auc: 0.9749\n",
      "Epoch 14/100\n",
      "5/5 - 0s - loss: 0.3545 - precision: 0.3809 - recall: 0.9105 - auc: 0.9428 - val_loss: 0.2220 - val_precision: 0.5543 - val_recall: 0.9372 - val_auc: 0.9755\n",
      "Epoch 15/100\n",
      "5/5 - 0s - loss: 0.3271 - precision: 0.3963 - recall: 0.9081 - auc: 0.9510 - val_loss: 0.2154 - val_precision: 0.5493 - val_recall: 0.9420 - val_auc: 0.9762\n",
      "Epoch 16/100\n",
      "5/5 - 0s - loss: 0.3281 - precision: 0.4041 - recall: 0.9226 - auc: 0.9492 - val_loss: 0.2061 - val_precision: 0.5434 - val_recall: 0.9372 - val_auc: 0.9766\n",
      "Epoch 17/100\n",
      "5/5 - 0s - loss: 0.3133 - precision: 0.4227 - recall: 0.9287 - auc: 0.9543 - val_loss: 0.1952 - val_precision: 0.5543 - val_recall: 0.9372 - val_auc: 0.9770\n",
      "Epoch 18/100\n",
      "5/5 - 0s - loss: 0.3074 - precision: 0.4247 - recall: 0.9141 - auc: 0.9540 - val_loss: 0.1913 - val_precision: 0.5527 - val_recall: 0.9372 - val_auc: 0.9778\n",
      "Epoch 19/100\n",
      "5/5 - 0s - loss: 0.2891 - precision: 0.4359 - recall: 0.9299 - auc: 0.9593 - val_loss: 0.1814 - val_precision: 0.5652 - val_recall: 0.9420 - val_auc: 0.9781\n",
      "Epoch 20/100\n",
      "5/5 - 0s - loss: 0.2894 - precision: 0.4484 - recall: 0.9299 - auc: 0.9585 - val_loss: 0.1784 - val_precision: 0.5636 - val_recall: 0.9420 - val_auc: 0.9786\n",
      "Epoch 21/100\n",
      "5/5 - 0s - loss: 0.2808 - precision: 0.4645 - recall: 0.9250 - auc: 0.9610 - val_loss: 0.1728 - val_precision: 0.5769 - val_recall: 0.9420 - val_auc: 0.9791\n",
      "Epoch 22/100\n",
      "5/5 - 0s - loss: 0.2781 - precision: 0.4648 - recall: 0.9335 - auc: 0.9610 - val_loss: 0.1716 - val_precision: 0.5752 - val_recall: 0.9420 - val_auc: 0.9790\n",
      "Epoch 23/100\n",
      "5/5 - 0s - loss: 0.2715 - precision: 0.4748 - recall: 0.9359 - auc: 0.9620 - val_loss: 0.1741 - val_precision: 0.5616 - val_recall: 0.9469 - val_auc: 0.9794\n",
      "Epoch 24/100\n",
      "5/5 - 0s - loss: 0.2549 - precision: 0.4790 - recall: 0.9371 - auc: 0.9657 - val_loss: 0.1671 - val_precision: 0.5748 - val_recall: 0.9469 - val_auc: 0.9798\n",
      "Epoch 25/100\n",
      "5/5 - 0s - loss: 0.2569 - precision: 0.4987 - recall: 0.9420 - auc: 0.9653 - val_loss: 0.1611 - val_precision: 0.5868 - val_recall: 0.9469 - val_auc: 0.9801\n",
      "Epoch 26/100\n",
      "5/5 - 0s - loss: 0.2468 - precision: 0.5016 - recall: 0.9287 - auc: 0.9677 - val_loss: 0.1604 - val_precision: 0.5833 - val_recall: 0.9469 - val_auc: 0.9800\n",
      "Epoch 27/100\n",
      "5/5 - 0s - loss: 0.2442 - precision: 0.5116 - recall: 0.9335 - auc: 0.9679 - val_loss: 0.1604 - val_precision: 0.5794 - val_recall: 0.9517 - val_auc: 0.9800\n",
      "Epoch 28/100\n",
      "5/5 - 0s - loss: 0.2442 - precision: 0.5085 - recall: 0.9407 - auc: 0.9674 - val_loss: 0.1594 - val_precision: 0.5811 - val_recall: 0.9517 - val_auc: 0.9799\n",
      "Epoch 29/100\n",
      "5/5 - 0s - loss: 0.2331 - precision: 0.5233 - recall: 0.9383 - auc: 0.9698 - val_loss: 0.1552 - val_precision: 0.5851 - val_recall: 0.9469 - val_auc: 0.9801\n",
      "Epoch 30/100\n",
      "5/5 - 0s - loss: 0.2413 - precision: 0.5112 - recall: 0.9359 - auc: 0.9671 - val_loss: 0.1557 - val_precision: 0.5833 - val_recall: 0.9469 - val_auc: 0.9800\n",
      "Epoch 31/100\n",
      "5/5 - 0s - loss: 0.2316 - precision: 0.5245 - recall: 0.9432 - auc: 0.9708 - val_loss: 0.1536 - val_precision: 0.5886 - val_recall: 0.9469 - val_auc: 0.9802\n",
      "Epoch 32/100\n",
      "5/5 - 0s - loss: 0.2217 - precision: 0.5192 - recall: 0.9504 - auc: 0.9730 - val_loss: 0.1518 - val_precision: 0.5957 - val_recall: 0.9469 - val_auc: 0.9803\n",
      "Epoch 33/100\n",
      "5/5 - 0s - loss: 0.2295 - precision: 0.5455 - recall: 0.9420 - auc: 0.9715 - val_loss: 0.1451 - val_precision: 0.6101 - val_recall: 0.9372 - val_auc: 0.9803\n",
      "Epoch 34/100\n",
      "5/5 - 0s - loss: 0.2223 - precision: 0.5623 - recall: 0.9383 - auc: 0.9720 - val_loss: 0.1496 - val_precision: 0.6062 - val_recall: 0.9517 - val_auc: 0.9804\n",
      "Epoch 35/100\n",
      "5/5 - 0s - loss: 0.2196 - precision: 0.5393 - recall: 0.9456 - auc: 0.9729 - val_loss: 0.1549 - val_precision: 0.5910 - val_recall: 0.9565 - val_auc: 0.9805\n",
      "Epoch 36/100\n",
      "5/5 - 0s - loss: 0.2146 - precision: 0.5376 - recall: 0.9504 - auc: 0.9735 - val_loss: 0.1536 - val_precision: 0.5916 - val_recall: 0.9517 - val_auc: 0.9805\n",
      "Epoch 37/100\n",
      "5/5 - 0s - loss: 0.2093 - precision: 0.5533 - recall: 0.9541 - auc: 0.9743 - val_loss: 0.1439 - val_precision: 0.6171 - val_recall: 0.9420 - val_auc: 0.9809\n",
      "Epoch 38/100\n",
      "5/5 - 0s - loss: 0.2086 - precision: 0.5643 - recall: 0.9444 - auc: 0.9752 - val_loss: 0.1435 - val_precision: 0.6190 - val_recall: 0.9420 - val_auc: 0.9810\n",
      "Epoch 39/100\n",
      "5/5 - 0s - loss: 0.2007 - precision: 0.5508 - recall: 0.9432 - auc: 0.9760 - val_loss: 0.1470 - val_precision: 0.6094 - val_recall: 0.9420 - val_auc: 0.9810\n",
      "Epoch 40/100\n",
      "5/5 - 0s - loss: 0.1995 - precision: 0.5471 - recall: 0.9480 - auc: 0.9760 - val_loss: 0.1505 - val_precision: 0.6024 - val_recall: 0.9517 - val_auc: 0.9809\n",
      "Epoch 41/100\n",
      "5/5 - 0s - loss: 0.2020 - precision: 0.5558 - recall: 0.9516 - auc: 0.9755 - val_loss: 0.1499 - val_precision: 0.6006 - val_recall: 0.9517 - val_auc: 0.9810\n",
      "Epoch 42/100\n",
      "5/5 - 0s - loss: 0.1970 - precision: 0.5715 - recall: 0.9516 - auc: 0.9772 - val_loss: 0.1384 - val_precision: 0.6287 - val_recall: 0.9324 - val_auc: 0.9800\n",
      "Epoch 43/100\n",
      "5/5 - 0s - loss: 0.1928 - precision: 0.5833 - recall: 0.9444 - auc: 0.9780 - val_loss: 0.1389 - val_precision: 0.6206 - val_recall: 0.9324 - val_auc: 0.9788\n",
      "Epoch 44/100\n",
      "5/5 - 0s - loss: 0.1953 - precision: 0.5686 - recall: 0.9516 - auc: 0.9770 - val_loss: 0.1451 - val_precision: 0.6120 - val_recall: 0.9372 - val_auc: 0.9800\n",
      "Epoch 45/100\n",
      "5/5 - 0s - loss: 0.2004 - precision: 0.5698 - recall: 0.9480 - auc: 0.9757 - val_loss: 0.1496 - val_precision: 0.6087 - val_recall: 0.9469 - val_auc: 0.9802\n",
      "Epoch 46/100\n",
      "5/5 - 0s - loss: 0.1948 - precision: 0.5634 - recall: 0.9516 - auc: 0.9770 - val_loss: 0.1472 - val_precision: 0.6159 - val_recall: 0.9372 - val_auc: 0.9788\n",
      "Epoch 47/100\n",
      "5/5 - 0s - loss: 0.1832 - precision: 0.5793 - recall: 0.9492 - auc: 0.9801 - val_loss: 0.1395 - val_precision: 0.6254 - val_recall: 0.9275 - val_auc: 0.9790\n",
      "Epoch 48/100\n",
      "Restoring model weights from the end of the best epoch.\n",
      "5/5 - 0s - loss: 0.1872 - precision: 0.5918 - recall: 0.9395 - auc: 0.9791 - val_loss: 0.1381 - val_precision: 0.6328 - val_recall: 0.9324 - val_auc: 0.9792\n"
     ]
    },
    {
     "name": "stdout",
     "output_type": "stream",
     "text": [
      "Epoch 00048: early stopping\n"
     ]
    }
   ],
   "source": [
    "weighted_model = make_model()\n",
    "\n",
    "weighted_history = weighted_model.fit(\n",
    "    train_features,\n",
    "    y_train,\n",
    "    batch_size=BATCH_SIZE,\n",
    "    epochs=EPOCHS,\n",
    "    callbacks=[early_stopping],\n",
    "    validation_data=(val_features, y_val),\n",
    "    class_weight=class_weight,\n",
    "    verbose=2\n",
    ")"
   ]
  },
  {
   "cell_type": "code",
   "execution_count": 55,
   "metadata": {},
   "outputs": [
    {
     "data": {
      "image/png": "[encoded data removed]",
      "text/plain": [
       "<Figure size 432x288 with 1 Axes>"
      ]
     },
     "metadata": {
      "needs_background": "light"
     },
     "output_type": "display_data"
    }
   ],
   "source": [
    "plot_metrics(weighted_history)"
   ]
  },
  {
   "cell_type": "code",
   "execution_count": 56,
   "metadata": {},
   "outputs": [
    {
     "name": "stdout",
     "output_type": "stream",
     "text": [
      "Legitimate Transactions Detected (True Negatives): 2463\n",
      "Legitimate Transactions Incorrectly Detected (False Positives): 146\n",
      "Fraudulent Transactions Missed (False Negatives): 24\n",
      "Fraudulent Transactions Detected (True Positives): 235\n",
      "Total Fraudulent Transactions: 259\n"
     ]
    },
    {
     "data": {
      "image/png": "[encoded data removed]",
      "text/plain": [
       "<Figure size 360x360 with 2 Axes>"
      ]
     },
     "metadata": {
      "needs_background": "light"
     },
     "output_type": "display_data"
    }
   ],
   "source": [
    "train_predictions_weighted = weighted_model.predict(train_features, batch_size=BATCH_SIZE)\n",
    "test_predictions_weighted = weighted_model.predict(test_features, batch_size=BATCH_SIZE)\n",
    "plot_cm(y_test, test_predictions_weighted)"
   ]
  },
  {
   "cell_type": "code",
   "execution_count": 57,
   "metadata": {},
   "outputs": [
    {
     "data": {
      "text/plain": [
       "0.7343750000000001"
      ]
     },
     "execution_count": 57,
     "metadata": {},
     "output_type": "execute_result"
    }
   ],
   "source": [
    "f1_score(y_test, test_predictions_weighted>0.5)"
   ]
  },
  {
   "cell_type": "code",
   "execution_count": null,
   "metadata": {},
   "outputs": [],
   "source": []
  }
 ],
 "metadata": {
  "kernelspec": {
   "display_name": "Python 3",
   "language": "python",
   "name": "python3"
  },
  "language_info": {
   "codemirror_mode": {
    "name": "ipython",
    "version": 3
   },
   "file_extension": ".py",
   "mimetype": "text/x-python",
   "name": "python",
   "nbconvert_exporter": "python",
   "pygments_lexer": "ipython3",
   "version": "3.8.5"
  }
 },
 "nbformat": 4,
 "nbformat_minor": 4
}
